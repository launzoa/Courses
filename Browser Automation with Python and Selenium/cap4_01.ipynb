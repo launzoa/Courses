{
 "cells": [
  {
   "cell_type": "code",
   "execution_count": null,
   "metadata": {},
   "outputs": [],
   "source": [
    "#Nesse código, o foco será construir uma automatização básica em python utilizando OOP. Aqui vai ser um exemplo para determinados elementos escolhidos. No próximo arquivo será uma abordagem mais geral\n",
    "\n",
    "from selenium import webdriver\n",
    "from selenium.webdriver.common.by import By\n",
    "\n",
    "class TrainingGroundPage:\n",
    "    \n",
    "    def __init__(self, driver):\n",
    "        self.driver = driver\n",
    "        self.url = 'https://techstepacademy.com/training-ground/'\n",
    "\n",
    "    def go(self):\n",
    "        self.driver.get(self.url)\n",
    "    \n",
    "    def input1_text(self, texto):\n",
    "        ipt1 = self.driver.find_element(By.CSS_SELECTOR, \"input#ipt1\")\n",
    "        ipt1.send_keys(texto)\n",
    "        \n",
    "        return None\n",
    "        \n",
    "    def button1_click(self):\n",
    "        btn1 = self.driver.find_element(By.CSS_SELECTOR, \"button#b1\")\n",
    "        btn1.click()\n",
    "        \n",
    "        return None\n",
    "    \n",
    "    \n",
    "browser = webdriver.Edge()\n",
    "training = TrainingGroundPage(driver=browser)\n",
    "\n",
    "training.go()\n",
    "\n",
    "teste = input(\"Entre com o conteudo a ser alocado dentro do input\")\n",
    "training.input1_text(teste)\n",
    "\n",
    "training.button1_click()"
   ]
  }
 ],
 "metadata": {
  "kernelspec": {
   "display_name": "ambiente_virtual",
   "language": "python",
   "name": "python3"
  },
  "language_info": {
   "codemirror_mode": {
    "name": "ipython",
    "version": 3
   },
   "file_extension": ".py",
   "mimetype": "text/x-python",
   "name": "python",
   "nbconvert_exporter": "python",
   "pygments_lexer": "ipython3",
   "version": "3.13.2"
  }
 },
 "nbformat": 4,
 "nbformat_minor": 2
}
