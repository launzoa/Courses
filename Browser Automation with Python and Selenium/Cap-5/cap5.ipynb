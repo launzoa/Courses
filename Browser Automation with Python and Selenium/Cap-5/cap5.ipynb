{
 "cells": [
  {
   "cell_type": "code",
   "execution_count": 16,
   "metadata": {},
   "outputs": [],
   "source": [
    "%reload_ext autoreload\n",
    "%autoreload 2\n",
    "\n",
    "from training_ground_page import TrainingGroundPage\n",
    "from trial_page import TrialPage\n",
    "\n",
    "from selenium import webdriver\n",
    "browser = webdriver.Edge()\n",
    "\n",
    "exemplo1 = TrainingGroundPage(browser)\n",
    "exemplo1.go()\n",
    "exemplo1.button1.click()\n",
    "exemplo1.alert()\n",
    "\n",
    "\n",
    "exemplo2 = TrialPage(browser)\n",
    "exemplo2.go()\n",
    "exemplo2.inpt1.input_text(\"rock\")\n",
    "exemplo2.btn1.click()\n",
    "palavra_secreta = exemplo2.secret_word.text()\n",
    "exemplo2.inpt2.input_text(palavra_secreta)\n",
    "exemplo2.btn2.click()\n"
   ]
  }
 ],
 "metadata": {
  "kernelspec": {
   "display_name": "ambiente_virtual",
   "language": "python",
   "name": "python3"
  },
  "language_info": {
   "codemirror_mode": {
    "name": "ipython",
    "version": 3
   },
   "file_extension": ".py",
   "mimetype": "text/x-python",
   "name": "python",
   "nbconvert_exporter": "python",
   "pygments_lexer": "ipython3",
   "version": "3.13.2"
  }
 },
 "nbformat": 4,
 "nbformat_minor": 2
}
