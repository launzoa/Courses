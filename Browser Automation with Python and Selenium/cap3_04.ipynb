{
 "cells": [
  {
   "cell_type": "code",
   "execution_count": null,
   "metadata": {},
   "outputs": [
    {
     "name": "stdout",
     "output_type": "stream",
     "text": [
      "You clickedButton1.\n"
     ]
    }
   ],
   "source": [
    "from selenium import webdriver \n",
    "from selenium.webdriver.common.by import By\n",
    "\n",
    "browser = webdriver.Edge()\n",
    "browser.get('https://techstepacademy.com/training-ground')\n",
    "\n",
    "\n",
    "from selenium.webdriver.support import expected_conditions as EC #Biblioteca para pegar módulos, nesse caso, para determinar condições dentro da página, caso não atendida é emitido um erro.\n",
    "from selenium.webdriver.support.wait import WebDriverWait #Biblioteca para fazer a sincronização com o browser.\n",
    "from time import sleep #Bilbioteca padrão do python para adicionar um tempo 'congelado' na página\n",
    "\n",
    "btn1_element = browser.find_element(By.CSS_SELECTOR, \"button#b1\")\n",
    "btn1_element.click()\n",
    "\n",
    "alert = WebDriverWait(browser, 10).until(EC.alert_is_present()) #Implementação de uma condição de existência. No caso, se o alert está presente dentro do tempo de 10 segundos\n",
    " \n",
    "sleep(3) #Congelar a programa por 3 segundos\n",
    "\n",
    "conteudo = alert.text #Gravar o conteudo do alert\n",
    "alert.accept() #Aceitar o alert gerado\n",
    "\n",
    "print(conteudo) #Mostra no terminal da IDE, o conteudo do alert.\n",
    "\n",
    "\n",
    "\n"
   ]
  }
 ],
 "metadata": {
  "kernelspec": {
   "display_name": "ambiente_virtual",
   "language": "python",
   "name": "python3"
  },
  "language_info": {
   "codemirror_mode": {
    "name": "ipython",
    "version": 3
   },
   "file_extension": ".py",
   "mimetype": "text/x-python",
   "name": "python",
   "nbconvert_exporter": "python",
   "pygments_lexer": "ipython3",
   "version": "3.13.2"
  }
 },
 "nbformat": 4,
 "nbformat_minor": 2
}
