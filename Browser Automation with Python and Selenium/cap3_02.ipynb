{
 "cells": [
  {
   "cell_type": "code",
   "execution_count": null,
   "metadata": {},
   "outputs": [],
   "source": [
    "from selenium import webdriver \n",
    "from selenium.webdriver.common.by import By #O curso \"Browser Automation with Python and Selenium\" com o instrutor Brandon Blair, aparentemente está desatualizado em algumas partes e esse é um exemplo.\n",
    "#Depois de algumas pesquisas, aparentemente não há mais uma ligação direta com o XPath e o CSS Selector. Agora é preciso utilizar essa biblioteca para realizar a busca dos elementos do html.\n",
    "\n",
    "\n",
    "browser = webdriver.Edge() #Abre o navegador, estou utilizando Edge por preferência\n",
    "browser.get('https://techstepacademy.com/training-ground') #Link de treinamento para teste de automação do curso\n",
    "\n",
    "#Esse bloco é um exemplo prático de como pegar um elemento em específico utilizando o CSS Selector e inserir algum valor nele. \n",
    "input1_css_selector_locator = \"input[id='ipt1']\" \n",
    "input1_element = browser.find_element(By.CSS_SELECTOR, input1_css_selector_locator)\n",
    "input1_element.send_keys(\"teste\")\n",
    "\n",
    "#Esse bloco tem a mesma finalidade que o anterior, mas nesse exemplo estamos utilizando o XPATH para buscar o elemento (nesse caso, um botão) e clickar no mesmo.\n",
    "button1_xpath_locator = \"//button[@id='b1']\"\n",
    "button1_element = browser.find_element(By.XPATH, button1_xpath_locator)\n",
    "button1_element.click()\n",
    "\n"
   ]
  },
  {
   "cell_type": "code",
   "execution_count": null,
   "metadata": {},
   "outputs": [],
   "source": []
  }
 ],
 "metadata": {
  "kernelspec": {
   "display_name": "ambiente_virtual",
   "language": "python",
   "name": "python3"
  },
  "language_info": {
   "codemirror_mode": {
    "name": "ipython",
    "version": 3
   },
   "file_extension": ".py",
   "mimetype": "text/x-python",
   "name": "python",
   "nbconvert_exporter": "python",
   "pygments_lexer": "ipython3",
   "version": "3.13.2"
  }
 },
 "nbformat": 4,
 "nbformat_minor": 2
}
