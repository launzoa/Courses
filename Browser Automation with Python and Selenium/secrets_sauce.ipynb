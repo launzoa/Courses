{
 "cells": [
  {
   "cell_type": "code",
   "execution_count": null,
   "metadata": {},
   "outputs": [
    {
     "name": "stdout",
     "output_type": "stream",
     "text": [
      "The highest weight is: 3000, by: Jessica\n"
     ]
    }
   ],
   "source": [
    "from selenium import webdriver\n",
    "from selenium.webdriver.common.by import By\n",
    "from lxml import etree\n",
    "\n",
    "\n",
    "class Listing:\n",
    "    def __init__(self, listing_div):\n",
    "        self.name = listing_div.find('./span/b').text\n",
    "        self.weight = int(listing_div.find('./p').text)\n",
    "        \n",
    "\n",
    "class PageWithListings:\n",
    "    def __init__(self, page_source):\n",
    "        self.tree = etree.HTML(page_source)\n",
    "    \n",
    "    def get_listings(self):\n",
    "        locator = './/div/span/..'\n",
    "        divs = self.tree.findall(locator)\n",
    "        return [Listing(div) for div in divs]\n",
    "        \n",
    "    def highest_weight(self, highest=-1):\n",
    "        for balance in self.get_listings():\n",
    "            if (balance.weight > highest):\n",
    "                highest = balance.weight\n",
    "                highest_name = balance.name\n",
    "                \n",
    "        return (highest_name, highest)\n",
    "\n",
    "\n",
    "class Answer_merchant():\n",
    "    def __init__(self, driver, name):\n",
    "\n",
    "        self.driver = driver\n",
    "        self.name = name\n",
    "        \n",
    "    def answer(self):\n",
    "        input = self.driver.find_element(By.CSS_SELECTOR, 'input#r3Input')\n",
    "        button = self.driver.find_element(By.CSS_SELECTOR, 'button#r3Butn')\n",
    "        \n",
    "        input.send_keys(self.name)\n",
    "        button.click()\n",
    "\n",
    "    \n",
    "if __name__ == '__main__':\n",
    "\n",
    "    browser = webdriver.Edge()\n",
    "    browser.get('http://techstepacademy.com/trial-of-the-stones')\n",
    "    \n",
    "    html = browser.page_source\n",
    "    \n",
    "    listings_page = PageWithListings(html)\n",
    "    name = listings_page.highest_weight()[0]\n",
    "    weight = listings_page.highest_weight()[1]\n",
    "    print(f\"The highest weight is: {listings_page.highest_weight()[1]}, by: {listings_page.highest_weight()[0]}\")\n",
    "\n",
    "    result = Answer_merchant(browser,name)\n",
    "    result.answer()"
   ]
  }
 ],
 "metadata": {
  "kernelspec": {
   "display_name": "ambiente_virtual",
   "language": "python",
   "name": "python3"
  },
  "language_info": {
   "codemirror_mode": {
    "name": "ipython",
    "version": 3
   },
   "file_extension": ".py",
   "mimetype": "text/x-python",
   "name": "python",
   "nbconvert_exporter": "python",
   "pygments_lexer": "ipython3",
   "version": "3.13.2"
  }
 },
 "nbformat": 4,
 "nbformat_minor": 2
}
