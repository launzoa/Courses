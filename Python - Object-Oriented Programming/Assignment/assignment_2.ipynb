{
 "cells": [
  {
   "cell_type": "code",
   "execution_count": null,
   "metadata": {},
   "outputs": [
    {
     "name": "stdout",
     "output_type": "stream",
     "text": [
      "['Banana', 'Apple']\n",
      "['Milk', 'Oats']\n"
     ]
    }
   ],
   "source": [
    "#Exercício simples para fazer uma classe que consiga adicionar uma lista de produtos com um array ou com uma string diferenciando por uma vírgula\n",
    "class ShoppingList:\n",
    "    \n",
    "    def __init__(self, itens):\n",
    "        self.itens = itens\n",
    "    \n",
    "    def from_string(self, lista):\n",
    "        self.itens = lista.split(\",\")\n",
    "        \n",
    "        \n",
    "list1 = ShoppingList(['Banana', 'Apple'])\n",
    "print(list1.itens)\n",
    "\n",
    "list1.from_string('Milk,Oats')\n",
    "print(list1.itens)"
   ]
  }
 ],
 "metadata": {
  "kernelspec": {
   "display_name": "Python 3",
   "language": "python",
   "name": "python3"
  },
  "language_info": {
   "codemirror_mode": {
    "name": "ipython",
    "version": 3
   },
   "file_extension": ".py",
   "mimetype": "text/x-python",
   "name": "python",
   "nbconvert_exporter": "python",
   "pygments_lexer": "ipython3",
   "version": "3.13.2"
  }
 },
 "nbformat": 4,
 "nbformat_minor": 2
}
