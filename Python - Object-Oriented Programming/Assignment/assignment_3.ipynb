{
 "cells": [
  {
   "cell_type": "code",
   "execution_count": null,
   "metadata": {},
   "outputs": [
    {
     "name": "stdout",
     "output_type": "stream",
     "text": [
      "Clime: cloudy, temperature: 30\n",
      "Clime: sunny, temperature: 40\n"
     ]
    }
   ],
   "source": [
    "class WeatherCondiction:\n",
    "\n",
    "    states = {\n",
    "        'cloudy' : [-10,30],\n",
    "        'stormy': [-20,10],\n",
    "        'rainy': [-20,20],\n",
    "        'snowy': [-60, 5],\n",
    "        'sunny': [20, 60]\n",
    "    }\n",
    "\n",
    "\n",
    "    def __init__(self, clime, temperature):\n",
    "\n",
    "        if (clime not in self.states):\n",
    "            raise ValueError(\"Clima não encontrado\")\n",
    "        \n",
    "        if (temperature < self.states[clime][0] or temperature > self.states[clime][1]):\n",
    "            raise ValueError(\"Temperatura incorreta para esse clima\")\n",
    "        \n",
    "        self.__clime = clime\n",
    "        self.__temperature = temperature\n",
    "        \n",
    "        \n",
    "    def __str__(self):\n",
    "        \n",
    "        return f\"Clime: {self.__clime}, temperature: {self.__temperature}\"\n",
    "\n",
    "    \n",
    "    @property\n",
    "    def clime(self):\n",
    "        \n",
    "        return self.__clime\n",
    "            \n",
    "            \n",
    "    @clime.setter\n",
    "    def clime(self, new_clime):\n",
    "        \n",
    "        if (new_clime not in WeatherCondiction.states):\n",
    "            raise ValueError(\"Clima não disponível para a mudança\")\n",
    "        \n",
    "        self.__clime = new_clime\n",
    "            \n",
    "\n",
    "    @property\n",
    "    def temperature(self):\n",
    "        \n",
    "        return self.__temperature\n",
    "    \n",
    "    @temperature.setter\n",
    "    def temperature(self, new_temperature):\n",
    "        \n",
    "        if (new_temperature < WeatherCondiction.states[self.__clime][0] or new_temperature > WeatherCondiction.states[self.__clime][1]):\n",
    "            raise ValueError(\"Temperatura não correspondente com o clima\")\n",
    "    \n",
    "        self.__temperature = new_temperature\n",
    "        \n",
    "    \n",
    "wc = WeatherCondiction(\"cloudy\", 30)\n",
    "print(wc)\n",
    "\n",
    "wc.clime = \"sunny\"\n",
    "\n",
    "wc.temperature = 40\n",
    "\n",
    "print(wc)"
   ]
  }
 ],
 "metadata": {
  "kernelspec": {
   "display_name": "Python 3",
   "language": "python",
   "name": "python3"
  },
  "language_info": {
   "codemirror_mode": {
    "name": "ipython",
    "version": 3
   },
   "file_extension": ".py",
   "mimetype": "text/x-python",
   "name": "python",
   "nbconvert_exporter": "python",
   "pygments_lexer": "ipython3",
   "version": "3.13.2"
  }
 },
 "nbformat": 4,
 "nbformat_minor": 2
}
