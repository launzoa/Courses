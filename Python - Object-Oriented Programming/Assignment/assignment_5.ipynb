{
 "cells": [
  {
   "cell_type": "code",
   "execution_count": 25,
   "metadata": {},
   "outputs": [
    {
     "name": "stdout",
     "output_type": "stream",
     "text": [
      "Book(title='The Gambler', author='Fyodor Dostoevsky')\n",
      "List of books:\n",
      "Book(title='Anna Karenina', author='Tolstói')\n",
      "Book(title='Crime and Punishment', author='Fyodor Dostoevsky')\n",
      "Book(title='The Gambler', author='Fyodor Dostoevsky')\n",
      "Book(title='War and Peace', author='Tolstói')\n"
     ]
    }
   ],
   "source": [
    "from dataclasses import dataclass\n",
    "\n",
    "@dataclass\n",
    "class Book:\n",
    "\n",
    "    title: str\n",
    "    author: str\n",
    "\n",
    "\n",
    "class Library:\n",
    "    \n",
    "    def __init__(self):\n",
    "        self.list_books = []\n",
    "    \n",
    "    def add(self, book:Book):\n",
    "        self.list_books.append(book)\n",
    "        \n",
    "    def __getitem__(self, idx):\n",
    "        return self.list_books[idx]\n",
    "    \n",
    "    \n",
    "b1 = Book(\"Anna Karenina\", \"Tolstói\")\n",
    "b2 = Book(\"Crime and Punishment\", \"Fyodor Dostoevsky\")\n",
    "b3 = Book(\"The Gambler\", \"Fyodor Dostoevsky\")\n",
    "b4 = Book(\"War and Peace\", \"Tolstói\")\n",
    "\n",
    "lib = Library()\n",
    "lib.add(b1)\n",
    "lib.add(b2)\n",
    "lib.add(b3)\n",
    "lib.add(b4)\n",
    "\n",
    "print(lib[2])\n",
    "print(\"List of books:\")\n",
    "for book in lib:\n",
    "    print(book)"
   ]
  }
 ],
 "metadata": {
  "kernelspec": {
   "display_name": "Python 3",
   "language": "python",
   "name": "python3"
  },
  "language_info": {
   "codemirror_mode": {
    "name": "ipython",
    "version": 3
   },
   "file_extension": ".py",
   "mimetype": "text/x-python",
   "name": "python",
   "nbconvert_exporter": "python",
   "pygments_lexer": "ipython3",
   "version": "3.13.2"
  }
 },
 "nbformat": 4,
 "nbformat_minor": 2
}
