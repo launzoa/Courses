{
 "cells": [
  {
   "cell_type": "code",
   "execution_count": null,
   "metadata": {},
   "outputs": [
    {
     "name": "stdout",
     "output_type": "stream",
     "text": [
      "You lost, but you have  2  hearts\n",
      "You lost, but you have  1  hearts\n",
      "GAME OVER!\n",
      "GAME OVER!\n"
     ]
    }
   ],
   "source": [
    "#Esse é um exercício para criar um sistema simples de vidas para um player. Consiste em manipular as vidas e o máximo de vidas que o jogador pode ter\n",
    "\n",
    "class Player:\n",
    "    \n",
    "    MAX_HEARTS = 3\n",
    "    \n",
    "    def __init__(self, name):\n",
    "        self.name = name\n",
    "        self.hearts = self.__class__.MAX_HEARTS\n",
    "    \n",
    "    def lose(self):\n",
    "           \n",
    "        if(self.hearts > 1):\n",
    "            self.hearts -= 1\n",
    "            print(\"You lost, but you have \", self.hearts ,\" hearts\")\n",
    "\n",
    "        else: \n",
    "            print(\"GAME OVER!\")\n",
    "\n",
    "    \n",
    "p1 = Player(\"Lua\")\n",
    "\n",
    "p1.lose()\n",
    "p1.lose()\n",
    "p1.lose()\n",
    "\n",
    "Player.MAX_HEARTS\n",
    "\n",
    "Player.MAX_HEARTS = 1\n",
    "\n",
    "p2 = Player(\"Dosto\")\n",
    "\n",
    "p2.lose()\n"
   ]
  }
 ],
 "metadata": {
  "kernelspec": {
   "display_name": "Python 3",
   "language": "python",
   "name": "python3"
  },
  "language_info": {
   "codemirror_mode": {
    "name": "ipython",
    "version": 3
   },
   "file_extension": ".py",
   "mimetype": "text/x-python",
   "name": "python",
   "nbconvert_exporter": "python",
   "pygments_lexer": "ipython3",
   "version": "3.13.2"
  }
 },
 "nbformat": 4,
 "nbformat_minor": 2
}
