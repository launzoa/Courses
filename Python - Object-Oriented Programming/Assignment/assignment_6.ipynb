{
 "cells": [
  {
   "cell_type": "code",
   "execution_count": 26,
   "metadata": {},
   "outputs": [
    {
     "name": "stdout",
     "output_type": "stream",
     "text": [
      "Rectangle one is the biggest\n",
      "Rectangle one is big than 1\n"
     ]
    },
    {
     "ename": "ValueError",
     "evalue": "not supported format",
     "output_type": "error",
     "traceback": [
      "\u001b[1;31m---------------------------------------------------------------------------\u001b[0m",
      "\u001b[1;31mValueError\u001b[0m                                Traceback (most recent call last)",
      "Cell \u001b[1;32mIn[26], line 35\u001b[0m\n\u001b[0;32m     31\u001b[0m \u001b[38;5;28;01mif\u001b[39;00m (r1 \u001b[38;5;241m>\u001b[39m \u001b[38;5;241m1\u001b[39m):\n\u001b[0;32m     33\u001b[0m     \u001b[38;5;28mprint\u001b[39m(\u001b[38;5;124m\"\u001b[39m\u001b[38;5;124mRectangle one is big than\u001b[39m\u001b[38;5;124m\"\u001b[39m, \u001b[38;5;241m1\u001b[39m)\n\u001b[1;32m---> 35\u001b[0m \u001b[38;5;28;01mif\u001b[39;00m (\u001b[43mr1\u001b[49m\u001b[43m \u001b[49m\u001b[38;5;241;43m>\u001b[39;49m\u001b[43m \u001b[49m\u001b[38;5;124;43m'\u001b[39;49m\u001b[38;5;124;43ma\u001b[39;49m\u001b[38;5;124;43m'\u001b[39;49m):\n\u001b[0;32m     36\u001b[0m     \u001b[38;5;28mprint\u001b[39m(\u001b[38;5;124m\"\u001b[39m\u001b[38;5;124m\"\u001b[39m)\n",
      "Cell \u001b[1;32mIn[26], line 22\u001b[0m, in \u001b[0;36mRectangle.__gt__\u001b[1;34m(self, other)\u001b[0m\n\u001b[0;32m     19\u001b[0m     \u001b[38;5;28;01mreturn\u001b[39;00m \u001b[38;5;28mself\u001b[39m\u001b[38;5;241m.\u001b[39marea \u001b[38;5;241m>\u001b[39m other\n\u001b[0;32m     21\u001b[0m \u001b[38;5;28;01melse\u001b[39;00m:\n\u001b[1;32m---> 22\u001b[0m     \u001b[38;5;28;01mraise\u001b[39;00m \u001b[38;5;167;01mValueError\u001b[39;00m(\u001b[38;5;124m\"\u001b[39m\u001b[38;5;124mnot supported format\u001b[39m\u001b[38;5;124m\"\u001b[39m)\n",
      "\u001b[1;31mValueError\u001b[0m: not supported format"
     ]
    }
   ],
   "source": [
    "class Rectangle:\n",
    "    \n",
    "    def __init__(self, base, height):\n",
    "        self.base = base\n",
    "        self.height = height\n",
    "        \n",
    "        \n",
    "    @property\n",
    "    def area(self):\n",
    "        return self.height * self.base\n",
    "    \n",
    "    \n",
    "    def __gt__(self, other):\n",
    "        \n",
    "        if (isinstance(other, Rectangle)):\n",
    "            return self.area > other.area\n",
    "\n",
    "        elif (isinstance(other, (int,float))):\n",
    "            return self.area > other\n",
    "    \n",
    "        else:\n",
    "            raise ValueError(\"not supported format\") \n",
    "    \n",
    "r1 = Rectangle(4,2)\n",
    "r2 = Rectangle(1,3)\n",
    "\n",
    "if (r1 > r2):\n",
    "    \n",
    "    print(\"Rectangle one is the biggest\")\n",
    "    \n",
    "if (r1 > 1):\n",
    "    \n",
    "    print(\"Rectangle one is big than\", 1)\n",
    "    \n",
    "if (r1 > 'a'):\n",
    "    print(\"\")"
   ]
  }
 ],
 "metadata": {
  "kernelspec": {
   "display_name": "Python 3",
   "language": "python",
   "name": "python3"
  },
  "language_info": {
   "codemirror_mode": {
    "name": "ipython",
    "version": 3
   },
   "file_extension": ".py",
   "mimetype": "text/x-python",
   "name": "python",
   "nbconvert_exporter": "python",
   "pygments_lexer": "ipython3",
   "version": "3.13.2"
  }
 },
 "nbformat": 4,
 "nbformat_minor": 2
}
