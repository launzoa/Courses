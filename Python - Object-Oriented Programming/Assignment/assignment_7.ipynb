{
 "cells": [
  {
   "cell_type": "code",
   "execution_count": null,
   "metadata": {},
   "outputs": [
    {
     "name": "stdout",
     "output_type": "stream",
     "text": [
      "123, Luã, 70\n",
      "123, Luã, 50\n",
      "123, Luã, 150\n"
     ]
    },
    {
     "ename": "ValueError",
     "evalue": "Mismatched accounts",
     "output_type": "error",
     "traceback": [
      "\u001b[1;31m---------------------------------------------------------------------------\u001b[0m",
      "\u001b[1;31mValueError\u001b[0m                                Traceback (most recent call last)",
      "Cell \u001b[1;32mIn[11], line 62\u001b[0m\n\u001b[0;32m     59\u001b[0m \u001b[38;5;28mprint\u001b[39m(account1)\n\u001b[0;32m     61\u001b[0m ch1 \u001b[38;5;241m=\u001b[39m Check(\u001b[38;5;241m321\u001b[39m, \u001b[38;5;241m200\u001b[39m)\n\u001b[1;32m---> 62\u001b[0m \u001b[43maccount1\u001b[49m\u001b[43m \u001b[49m\u001b[38;5;241;43m+\u001b[39;49m\u001b[43m \u001b[49m\u001b[43mch1\u001b[49m\n\u001b[0;32m     64\u001b[0m \u001b[38;5;28mprint\u001b[39m(account1)\n",
      "Cell \u001b[1;32mIn[11], line 21\u001b[0m, in \u001b[0;36mBankAccount.__add__\u001b[1;34m(self, value)\u001b[0m\n\u001b[0;32m     18\u001b[0m         \u001b[38;5;28mself\u001b[39m\u001b[38;5;241m.\u001b[39mbalance \u001b[38;5;241m+\u001b[39m\u001b[38;5;241m=\u001b[39m value\u001b[38;5;241m.\u001b[39mbalance\n\u001b[0;32m     20\u001b[0m     \u001b[38;5;28;01melse\u001b[39;00m:\n\u001b[1;32m---> 21\u001b[0m         \u001b[38;5;28;01mraise\u001b[39;00m \u001b[38;5;167;01mValueError\u001b[39;00m(\u001b[38;5;124m\"\u001b[39m\u001b[38;5;124mMismatched accounts\u001b[39m\u001b[38;5;124m\"\u001b[39m)\n\u001b[0;32m     23\u001b[0m \u001b[38;5;28;01melif\u001b[39;00m (\u001b[38;5;28misinstance\u001b[39m(value, (\u001b[38;5;28mint\u001b[39m, \u001b[38;5;28mfloat\u001b[39m))):\n\u001b[0;32m     24\u001b[0m     \u001b[38;5;28mself\u001b[39m\u001b[38;5;241m.\u001b[39mbalance \u001b[38;5;241m+\u001b[39m\u001b[38;5;241m=\u001b[39m value\n",
      "\u001b[1;31mValueError\u001b[0m: Mismatched accounts"
     ]
    }
   ],
   "source": [
    "from dataclasses import dataclass\n",
    "\n",
    "class BankAccount:\n",
    "    \n",
    "    def __init__(self, number, name, balance):\n",
    "        self.number = number\n",
    "        self.name = name\n",
    "        self.balance = balance\n",
    "        \n",
    "    \n",
    "    def __str__(self):\n",
    "        return f\"{self.number}, {self.name}, {self.balance}\"\n",
    "        \n",
    "        \n",
    "    def __add__(self, value):\n",
    "        if (isinstance(value, Check)):\n",
    "            if(value.number == self.number):\n",
    "                self.balance += value.balance\n",
    "\n",
    "            else:\n",
    "                raise ValueError(\"Mismatched accounts\")\n",
    "            \n",
    "        elif (isinstance(value, (int, float))):\n",
    "            self.balance += value\n",
    "            \n",
    "        else:\n",
    "            raise ValueError(\"Value format is invalid\")\n",
    "\n",
    "    \n",
    "    def __sub__(self, value):\n",
    "        \n",
    "        if(value > self.balance):\n",
    "            raise ValueError(\"exceeds the balance limit\")\n",
    "        \n",
    "        else:\n",
    "            self.balance -= value\n",
    "            \n",
    "\n",
    "@dataclass\n",
    "class Check:\n",
    "    \n",
    "    number: int\n",
    "    balance: int\n",
    "\n",
    "\n",
    "account1 = BankAccount(123, \"Luã\", 50)\n",
    "\n",
    "account1 + 20\n",
    "print(account1)\n",
    "\n",
    "account1 - 20\n",
    "print(account1)\n",
    "\n",
    "# account1 - 60  error test\n",
    "\n",
    "ch1 = Check(123, 100)\n",
    "account1 + ch1\n",
    "\n",
    "print(account1)\n",
    "\n",
    "# ch1 = Check(321, 200) error test\n",
    "account1 + ch1\n",
    "\n",
    "print(account1)\n"
   ]
  },
  {
   "cell_type": "code",
   "execution_count": null,
   "metadata": {},
   "outputs": [],
   "source": [
    " "
   ]
  }
 ],
 "metadata": {
  "kernelspec": {
   "display_name": "Python 3",
   "language": "python",
   "name": "python3"
  },
  "language_info": {
   "codemirror_mode": {
    "name": "ipython",
    "version": 3
   },
   "file_extension": ".py",
   "mimetype": "text/x-python",
   "name": "python",
   "nbconvert_exporter": "python",
   "pygments_lexer": "ipython3",
   "version": "3.13.2"
  }
 },
 "nbformat": 4,
 "nbformat_minor": 2
}
