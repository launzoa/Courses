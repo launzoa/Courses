{
 "cells": [
  {
   "cell_type": "code",
   "execution_count": 2,
   "metadata": {},
   "outputs": [
    {
     "name": "stdout",
     "output_type": "stream",
     "text": [
      "Shopping List, Item: grocery, Quantidade de itens: 0\n",
      "Número de itens 0\n",
      "Novo item adicionado!\n",
      "Novo item adicionado!\n",
      "Novo item adicionado!\n",
      "O novo item não é um produto\n",
      "Shopping List, Item: grocery, Quantidade de itens: 3\n",
      "Número de itens 3\n",
      "Tomate 1\n",
      "Carrot 2\n",
      "Egg 1\n"
     ]
    }
   ],
   "source": [
    "%reload_ext autoreload\n",
    "\n",
    "#Essa parte comentada é para o primeiro 'projeto' referente à uma conta de banco\n",
    "\"\"\"\n",
    "from bankaccount import BankAccount\n",
    "\n",
    "acc1 = BankAccount(nome=\"Lua\", saldo=100)\n",
    "\n",
    "acc1.deposit(1000)\n",
    "print(acc1)\n",
    "\n",
    "acc1.withdraw(500)\n",
    "print(acc1)\n",
    "\"\"\"\n",
    "\n",
    "#Essa parte é referente à um supermercado\n",
    "from supermarket import Supermarket, Product\n",
    "\n",
    "list1 = Supermarket(\"grocery\")\n",
    "print(list1)\n",
    "list1.show()\n",
    "\n",
    "product1 = Product(\"Tomate\", 1)\n",
    "product2 = Product(\"Carrot\", 2)\n",
    "product3 = Product(\"Egg\", 1)\n",
    "\n",
    "list1.add(product1)\n",
    "list1.add(product2)\n",
    "list1.add(product3)\n",
    "list1.add(\"Banana\")\n",
    "\n",
    "print(list1)\n",
    "list1.show()"
   ]
  }
 ],
 "metadata": {
  "kernelspec": {
   "display_name": "Python 3",
   "language": "python",
   "name": "python3"
  },
  "language_info": {
   "codemirror_mode": {
    "name": "ipython",
    "version": 3
   },
   "file_extension": ".py",
   "mimetype": "text/x-python",
   "name": "python",
   "nbconvert_exporter": "python",
   "pygments_lexer": "ipython3",
   "version": "3.13.2"
  }
 },
 "nbformat": 4,
 "nbformat_minor": 2
}
