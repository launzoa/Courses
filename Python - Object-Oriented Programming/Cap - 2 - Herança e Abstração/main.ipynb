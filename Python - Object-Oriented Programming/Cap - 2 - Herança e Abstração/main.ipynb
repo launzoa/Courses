{
 "cells": [
  {
   "cell_type": "code",
   "execution_count": null,
   "metadata": {},
   "outputs": [
    {
     "name": "stdout",
     "output_type": "stream",
     "text": [
      "Cor: Blue, Raio: 3\n",
      "Cor: Red, Largura: 10, Altura: 20\n",
      "28.274333882308138\n",
      "200\n"
     ]
    }
   ],
   "source": [
    "#%load_ext autoreload\n",
    "%reload_ext autoreload\n",
    "\n",
    "#Exemplo básico de manipulações de herenças e o sistema de herdar o conteúdo conflitante\n",
    "\"\"\"\n",
    "from Herança import D\n",
    "\n",
    "d1 = D()\n",
    "\n",
    "print(d1.X, d1.Y) #Nesse caso, temos a classe B,C com valores 20 e 30 respectivamente. Mas na impressão, é mostrado apenas Y = 20. Acontece que a herança tem preferência da esquerda para a direita.\n",
    "\n",
    "d1.Z = 30\n",
    "\n",
    "print(d1.X, d1.Y, d1.Z) #Porém, ele consegue herdar os valores que não são conflitantes entre as nossas classes. Esse exemplo teve a respota: X=10(A), Y=20(B), Z=30(C)\n",
    "\"\"\"\n",
    "\n",
    "#Exemplo de herança e método abstrato, nesse exemplo temos o método abstrato 'area', onde Circle e Rectangle assumem fórmulas diferentes para a área, por isso que o método é 'abstrato'.\n",
    "\n",
    "from Shape import Circle, Rectangle\n",
    "\n",
    "c1 = Circle(\"Blue\", 3)\n",
    "r1 = Rectangle(\"Red\", 10, 20) \n",
    "\n",
    "print(c1)\n",
    "print(r1)\n",
    "\n",
    "print(c1.area())\n",
    "print(r1.area())"
   ]
  }
 ],
 "metadata": {
  "kernelspec": {
   "display_name": "Python 3",
   "language": "python",
   "name": "python3"
  },
  "language_info": {
   "codemirror_mode": {
    "name": "ipython",
    "version": 3
   },
   "file_extension": ".py",
   "mimetype": "text/x-python",
   "name": "python",
   "nbconvert_exporter": "python",
   "pygments_lexer": "ipython3",
   "version": "3.13.2"
  }
 },
 "nbformat": 4,
 "nbformat_minor": 2
}
