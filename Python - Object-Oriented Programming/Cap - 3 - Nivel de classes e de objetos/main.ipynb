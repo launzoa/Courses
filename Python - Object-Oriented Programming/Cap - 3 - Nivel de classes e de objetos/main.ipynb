{
 "cells": [
  {
   "cell_type": "code",
   "execution_count": 3,
   "metadata": {},
   "outputs": [
    {
     "name": "stdout",
     "output_type": "stream",
     "text": [
      "Nome: Lua, Ano de nascimento: 2004\n",
      "Limite de skills: 3\n",
      "Limite de skills: 2\n",
      "21\n",
      "Limite de skills atingido. Impossível adicionar a linguagem C. Aumente o limite!\n",
      "As suas skills são:\n",
      "C++\n",
      "Python\n"
     ]
    }
   ],
   "source": [
    "%reload_ext autoreload\n",
    "%autoreload 2\n",
    "\n",
    "#Exemplo de manipulação básica de métodos de classe\n",
    "\n",
    "\"\"\"\n",
    "\n",
    "from  bankaccount import BankAccount\n",
    "\n",
    "acc1 = BankAccount(\"Lua\", 100)\n",
    "acc1.balance_increase(6)\n",
    "print(\"Juros:\", acc1.interest_rate)\n",
    "print(acc1)\n",
    "print(\"Quantidade de objetos criados:\", acc1.population)\n",
    "\n",
    "print(\"-------------------------------------\")\n",
    "\n",
    "acc2 = BankAccount(\"Liev\", 100)\n",
    "acc2.interest_change(2.5)\n",
    "acc2.balance_increase(6)\n",
    "print(\"Juros:\", acc2.interest_rate)\n",
    "print(acc2)\n",
    "print(\"Quantidade de objetos criados:\", acc2.population)\n",
    "\n",
    "\"\"\"\n",
    "\n",
    "#Exemplo de manipulação de métodos de classe e estático. Mais informações, dentro do corpo da classe\n",
    "\n",
    "\"\"\"\n",
    "\n",
    "from Example import SampleClass\n",
    "\n",
    "obj = SampleClass()\n",
    "print(obj)\n",
    "valores = obj.change_values(10,20)\n",
    "y = valores[1]\n",
    "obj.show(y)\n",
    "obj.change_x(20)\n",
    "obj.show(y)\n",
    "print(obj)\n",
    "\n",
    "\"\"\"\n",
    "\n",
    "#\n",
    "\n",
    "from Programador import Developer\n",
    "\n",
    "dev1 = Developer(\"Lua\", 2004)\n",
    "print(dev1)\n",
    "print(\"Limite de skills:\", dev1.Limit)\n",
    "\n",
    "dev1.change_limit(2)\n",
    "print(\"Limite de skills:\", dev1.Limit)\n",
    "\n",
    "print(dev1.age_in_years())\n",
    "\n",
    "dev1.developer_skills(\"C++\")\n",
    "dev1.developer_skills(\"Python\")\n",
    "dev1.developer_skills(\"C\")\n",
    "dev1.show_skills()\n"
   ]
  }
 ],
 "metadata": {
  "kernelspec": {
   "display_name": "Python 3",
   "language": "python",
   "name": "python3"
  },
  "language_info": {
   "codemirror_mode": {
    "name": "ipython",
    "version": 3
   },
   "file_extension": ".py",
   "mimetype": "text/x-python",
   "name": "python",
   "nbconvert_exporter": "python",
   "pygments_lexer": "ipython3",
   "version": "3.13.2"
  }
 },
 "nbformat": 4,
 "nbformat_minor": 2
}
