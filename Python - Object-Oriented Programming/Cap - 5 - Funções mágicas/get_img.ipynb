{
 "cells": [
  {
   "cell_type": "code",
   "execution_count": 3,
   "metadata": {},
   "outputs": [],
   "source": [
    "'''\n",
    "Nesse exemplo, vamos utilizar o método __getitem__ para poder passar um indíce atráves da chamada da nossa classe. \n",
    "Exemplo: \n",
    "list1 = Lista([1,2,3])\n",
    "list1[1]\n",
    "'''\n",
    "\n",
    "import os\n",
    "from PIL import Image\n",
    "\n",
    "class ImageDataSet:\n",
    "\n",
    "    def __init__(self, root):\n",
    "        self.root = root\n",
    "        self.filenames = os.listdir(self.root)\n",
    "\n",
    "        \n",
    "    def __getitem__(self,idx):\n",
    "        \n",
    "        img = Image.open(self.root + \"/\" + self.filenames[idx])\n",
    "        \n",
    "        return img\n",
    "\n",
    "img1 = ImageDataSet(\"C:/Users/carmi/OneDrive/Área de Trabalho/O'reilly/Python - Object-Oriented Programming/Cap - 5 - Funções mágicas/Images\")  \n",
    "img1[1].show() \n",
    "        "
   ]
  }
 ],
 "metadata": {
  "kernelspec": {
   "display_name": "Python 3",
   "language": "python",
   "name": "python3"
  },
  "language_info": {
   "codemirror_mode": {
    "name": "ipython",
    "version": 3
   },
   "file_extension": ".py",
   "mimetype": "text/x-python",
   "name": "python",
   "nbconvert_exporter": "python",
   "pygments_lexer": "ipython3",
   "version": "3.13.2"
  }
 },
 "nbformat": 4,
 "nbformat_minor": 2
}
