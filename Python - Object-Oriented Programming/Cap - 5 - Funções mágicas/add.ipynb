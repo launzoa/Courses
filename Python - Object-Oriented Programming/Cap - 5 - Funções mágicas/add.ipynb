{
 "cells": [
  {
   "cell_type": "code",
   "execution_count": 14,
   "metadata": {},
   "outputs": [
    {
     "name": "stdout",
     "output_type": "stream",
     "text": [
      "(3, 3)\n",
      "(2, 3)\n",
      "(2, 3)\n",
      "(-1, 1)\n"
     ]
    }
   ],
   "source": [
    "'''\n",
    "Esse truque é sobre algumas operações em python em relação aos nossos objetos. Podemos pensar em operações como: soma, subtração, entre outras operações. Exemplo:\n",
    "c1 = Class()\n",
    "c2 = Class()\n",
    "(c1 + c2), (c1 - c2), etc...\n",
    "'''\n",
    "\n",
    "class Point:\n",
    "    \n",
    "    def __init__(self, x, y):\n",
    "        self.x = x\n",
    "        self.y = y    \n",
    "    \n",
    "    \n",
    "    def __add__(self, other):\n",
    "        \n",
    "        if(isinstance(other, Point)):\n",
    "            return (self.x + other.x), (self.y + other.y)\n",
    "        \n",
    "        elif(isinstance(other, (int, float))):\n",
    "            return (self.x + other), (self.y + other)\n",
    "\n",
    "        else:\n",
    "            raise ValueError(\"O tipo passado não é válido!\")\n",
    "        \n",
    "    \n",
    "    def __radd__(self, other):\n",
    "        \n",
    "        return (self + other) \n",
    "    \n",
    "    \n",
    "    def __sub__(self, other):\n",
    "        \n",
    "        return (self.x - other.x ), (self.y - other.y)\n",
    "        \n",
    "p1 = Point(1,2)\n",
    "p2 = Point(2,1)\n",
    "\n",
    "print(p1+p2)\n",
    "print(p1+1)\n",
    "# print(p1+'a') error\n",
    "print(1+p1)\n",
    "print(p1-p2)"
   ]
  }
 ],
 "metadata": {
  "kernelspec": {
   "display_name": "Python 3",
   "language": "python",
   "name": "python3"
  },
  "language_info": {
   "codemirror_mode": {
    "name": "ipython",
    "version": 3
   },
   "file_extension": ".py",
   "mimetype": "text/x-python",
   "name": "python",
   "nbconvert_exporter": "python",
   "pygments_lexer": "ipython3",
   "version": "3.13.2"
  }
 },
 "nbformat": 4,
 "nbformat_minor": 2
}
