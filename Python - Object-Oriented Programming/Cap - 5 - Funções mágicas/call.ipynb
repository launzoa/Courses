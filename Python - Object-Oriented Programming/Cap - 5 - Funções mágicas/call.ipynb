{
 "cells": [
  {
   "cell_type": "code",
   "execution_count": null,
   "metadata": {},
   "outputs": [
    {
     "name": "stdout",
     "output_type": "stream",
     "text": [
      "ax + b =\n",
      "1*3 + 2 = 5\n"
     ]
    }
   ],
   "source": [
    "'''\n",
    "Esse tópico é sobre uma função 'mágica' que permite chamar a classe e passar pelo seu nome algum parâmetro. \n",
    "Exemplo: \n",
    "p1 = Product('milk')\n",
    "p1('R$ 5,00')\n",
    "'''\n",
    "\n",
    "class Afim:\n",
    "    \n",
    "    def __init__(self, a, b):\n",
    "        self.a = a\n",
    "        self.b = b\n",
    "        \n",
    "        \n",
    "    def __str__(self):\n",
    "        \n",
    "        return f\"ax + b =\\n{self.a}*{self.x} + {self.b} = {self.__call__(self.x)}\"\n",
    "    \n",
    "    \n",
    "    def __call__(self, x):\n",
    "        self.x = x\n",
    "        \n",
    "        return self.a*self.x + self.b\n",
    "    \n",
    "\n",
    "x1 = Afim(1,2)\n",
    "x1(3) # Chamada por __call__\n",
    "print(x1)"
   ]
  }
 ],
 "metadata": {
  "kernelspec": {
   "display_name": "Python 3",
   "language": "python",
   "name": "python3"
  },
  "language_info": {
   "codemirror_mode": {
    "name": "ipython",
    "version": 3
   },
   "file_extension": ".py",
   "mimetype": "text/x-python",
   "name": "python",
   "nbconvert_exporter": "python",
   "pygments_lexer": "ipython3",
   "version": "3.13.2"
  }
 },
 "nbformat": 4,
 "nbformat_minor": 2
}
