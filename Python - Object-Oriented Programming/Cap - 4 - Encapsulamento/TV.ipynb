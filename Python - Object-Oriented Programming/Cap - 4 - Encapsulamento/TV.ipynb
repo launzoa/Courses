{
 "cells": [
  {
   "cell_type": "code",
   "execution_count": null,
   "metadata": {},
   "outputs": [
    {
     "name": "stdout",
     "output_type": "stream",
     "text": [
      "Status: off, Volume: 50, Channel: 1\n",
      "Status: on, Volume: 15, Channel: 3\n"
     ]
    }
   ],
   "source": [
    "#Esse exercício mexe com exemplos de atributos de classes privados usando o \"__\" e a manipulação de decoradores como o @property e @property.setter\n",
    "\n",
    "class TV:\n",
    "\n",
    "    def __init__(self):\n",
    "        self.__status = \"off\"\n",
    "        self.__volume = 50\n",
    "        self.___channel = 1\n",
    "    \n",
    "    def __str__(self):\n",
    "        return f\"Status: {self.status}, Volume: {self.volume}, Channel: {self.channel}\"\n",
    "    \n",
    "    @property\n",
    "    def status(self):\n",
    "        return self.__status\n",
    "    \n",
    "    @property\n",
    "    def volume(self):\n",
    "        return self.__volume\n",
    "        \n",
    "    @property\n",
    "    def channel(self):\n",
    "        return self.___channel\n",
    "        \n",
    "    @volume.setter\n",
    "    def volume(self, volume):\n",
    "        if(volume <= 100 and volume >= 0):\n",
    "            self.__volume = volume\n",
    "        \n",
    "        else:\n",
    "            raise ValueError(\"Volume indisponível\")\n",
    "    \n",
    "    @channel.setter\n",
    "    def channel(self, channel):\n",
    "        self.___channel = channel\n",
    "    \n",
    "    @status.setter\n",
    "    def status(self, status):\n",
    "        if status in [\"on\", \"off\"]:\n",
    "            self.__status = status\n",
    "    \n",
    "\n",
    "\n",
    "tv1 = TV()\n",
    "print(tv1)\n",
    "\n",
    "tv1.status = \"on\"\n",
    "#tv1.volume = 200\n",
    "tv1.volume = 15\n",
    "tv1.channel = 3\n",
    "print(tv1)\n"
   ]
  }
 ],
 "metadata": {
  "kernelspec": {
   "display_name": "Python 3",
   "language": "python",
   "name": "python3"
  },
  "language_info": {
   "codemirror_mode": {
    "name": "ipython",
    "version": 3
   },
   "file_extension": ".py",
   "mimetype": "text/x-python",
   "name": "python",
   "nbconvert_exporter": "python",
   "pygments_lexer": "ipython3",
   "version": "3.13.2"
  }
 },
 "nbformat": 4,
 "nbformat_minor": 2
}
